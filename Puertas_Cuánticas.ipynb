{
 "cells": [
  {
   "cell_type": "markdown",
   "id": "7f09a02a",
   "metadata": {},
   "source": [
    "Antes de ejecutar el siguiente código es necesario descargar las siguientes dependencias:\n"
   ]
  },
  {
   "cell_type": "code",
   "execution_count": null,
   "id": "a5f00787",
   "metadata": {},
   "outputs": [],
   "source": [
    "%pip install -r requirements.txt"
   ]
  },
  {
   "cell_type": "code",
   "execution_count": null,
   "id": "95f87b94",
   "metadata": {},
   "outputs": [],
   "source": [
    "from qiskit import QuantumCircuit\n",
    "from qiskit.circuit.library import UnitaryGate, HGate, SGate, UGate\n",
    "import numpy as np\n",
    "import matplotlib.pyplot as plt\n",
    "%matplotlib inline"
   ]
  },
  {
   "cell_type": "markdown",
   "id": "9d5defac",
   "metadata": {},
   "source": [
    "## Qubits y bits clásicos en los ejemplos\n",
    "\n",
    "En todos los ejemplos del notebook se trabaja con:\n",
    "\n",
    "- **Qubits** (`q[0]`, `q[1]`, ...): representan los estados cuánticos sobre los que se aplican las puertas cuánticas, incluidas las puertas controladas.\n",
    "- **Bits clásicos** (`c[0]`, `c[1]`, ...): se utilizan para almacenar los resultados de la medición de los qubits, lo que permite obtener una salida observable.\n",
    "\n",
    "### Esquema general utilizado\n",
    "\n",
    "Cada circuito implementado en este proyecto sigue esta estructura:\n",
    "\n",
    "1. Se crean `n` qubits y `n` bits clásicos.\n",
    "2. Se aplican puertas cuánticas (como `H`, `CX`, `U`, `Unitary`, etc.).\n",
    "3. Se realiza la medición de cada qubit.\n",
    "4. Los resultados de cada medición se almacenan en su correspondiente bit clásico.\n",
    "5. Se visualiza el circuito y los resultados.\n",
    "\n",
    "Este enfoque permite simular el comportamiento cuántico y observar los resultados en un formato clásico.\n"
   ]
  },
  {
   "cell_type": "markdown",
   "id": "eb6c2011",
   "metadata": {},
   "source": [
    "<h2 align=\"center\">PUERTA PAULI X</h2>\n"
   ]
  },
  {
   "cell_type": "code",
   "execution_count": 39,
   "id": "ccc3b3dd",
   "metadata": {},
   "outputs": [
    {
     "data": {
      "image/png": "[encoded data removed]",
      "text/plain": [
       "<Figure size 269.064x200.667 with 1 Axes>"
      ]
     },
     "metadata": {},
     "output_type": "display_data"
    }
   ],
   "source": [
    "# Definición de la matriz Pauli-X\n",
    "x_matrix = np.array([[0, 1],\n",
    "                     [1, 0]])\n",
    "\n",
    "custom_x = UnitaryGate(x_matrix, label='X')\n",
    "\n",
    "qc = QuantumCircuit(1, 1)\n",
    "qc.append(custom_x, [0])\n",
    "qc.measure(0, 0)\n",
    "\n",
    "fig = qc.draw(output='mpl')\n",
    "\n",
    "fig.savefig('images/Puerta_X.png')\n",
    "\n",
    "plt.show()"
   ]
  },
  {
   "cell_type": "markdown",
   "id": "a86c09a4",
   "metadata": {},
   "source": [
    "<h2 align=\"center\">PUERTA PAULI Y</h2>\n"
   ]
  },
  {
   "cell_type": "code",
   "execution_count": 40,
   "id": "62e5a411",
   "metadata": {},
   "outputs": [
    {
     "data": {
      "image/png": "[encoded data removed]",
      "text/plain": [
       "<Figure size 269.064x200.667 with 1 Axes>"
      ]
     },
     "metadata": {},
     "output_type": "display_data"
    }
   ],
   "source": [
    "# Definición de la matriz Pauli-Y\n",
    "y_matrix = np.array([[0, -1j],\n",
    "                     [1j, 0]])\n",
    "\n",
    "custom_y = UnitaryGate(y_matrix, label='Y')\n",
    "\n",
    "qc = QuantumCircuit(1, 1)\n",
    "qc.append(custom_y, [0])\n",
    "qc.measure(0, 0)\n",
    "\n",
    "fig = qc.draw(output='mpl')\n",
    "\n",
    "fig.savefig('images/Puerta_Y.png')\n",
    "\n",
    "plt.show()"
   ]
  },
  {
   "cell_type": "markdown",
   "id": "377c6e16",
   "metadata": {},
   "source": [
    "<h2 align=\"center\">PUERTA PAULI Z</h2>\n"
   ]
  },
  {
   "cell_type": "code",
   "execution_count": 41,
   "id": "ee4ea771",
   "metadata": {},
   "outputs": [
    {
     "data": {
      "image/png": "[encoded data removed]",
      "text/plain": [
       "<Figure size 269.064x200.667 with 1 Axes>"
      ]
     },
     "metadata": {},
     "output_type": "display_data"
    }
   ],
   "source": [
    "# Definición de la matriz Pauli-Z\n",
    "z_matrix = np.array([[1, 0],\n",
    "                     [0, -1]])\n",
    "\n",
    "custom_z = UnitaryGate(z_matrix, label='Z')\n",
    "\n",
    "qc = QuantumCircuit(1, 1)\n",
    "qc.append(custom_z, [0])\n",
    "qc.measure(0, 0)\n",
    "\n",
    "fig = qc.draw(output='mpl')\n",
    "\n",
    "fig.savefig('images/Puerta_Z.png')\n",
    "\n",
    "plt.show()"
   ]
  },
  {
   "cell_type": "markdown",
   "id": "1eb14803",
   "metadata": {},
   "source": [
    "<h2 align=\"center\">PUERTA HADAMARD</h2>\n"
   ]
  },
  {
   "cell_type": "code",
   "execution_count": 49,
   "id": "e16916b8",
   "metadata": {},
   "outputs": [
    {
     "data": {
      "image/png": "[encoded data removed]",
      "text/plain": [
       "<Figure size 269.064x200.667 with 1 Axes>"
      ]
     },
     "metadata": {},
     "output_type": "display_data"
    },
    {
     "name": "stdout",
     "output_type": "stream",
     "text": [
      "Matriz de Hadamard:\n",
      "[[ 0.70710678  0.70710678]\n",
      " [ 0.70710678 -0.70710678]]\n"
     ]
    }
   ],
   "source": [
    "qc = QuantumCircuit(1, 1)\n",
    "\n",
    "# Aplicar la puerta Hadamard\n",
    "qc.h(0)\n",
    "\n",
    "qc.measure(0, 0)\n",
    "\n",
    "fig = qc.draw(output='mpl')\n",
    "\n",
    "fig.savefig('images/Puerta_H.png')\n",
    "\n",
    "plt.show()\n",
    "\n",
    "# Matriz de Hadamard\n",
    "h_matrix = (1/np.sqrt(2)) * np.array([[1, 1],\n",
    "                                      [1, -1]])\n",
    "print(f\"Matriz de Hadamard:\\n{h_matrix}\")"
   ]
  },
  {
   "cell_type": "markdown",
   "id": "6fa2da6f",
   "metadata": {},
   "source": [
    "<h2 align=\"center\">PUERTA S</h2>\n"
   ]
  },
  {
   "cell_type": "code",
   "execution_count": 50,
   "id": "484332c2",
   "metadata": {},
   "outputs": [
    {
     "data": {
      "image/png": "[encoded data removed]",
      "text/plain": [
       "<Figure size 269.064x200.667 with 1 Axes>"
      ]
     },
     "metadata": {},
     "output_type": "display_data"
    },
    {
     "name": "stdout",
     "output_type": "stream",
     "text": [
      "Matriz de la Puerta S:\n",
      "[[1.+0.j 0.+0.j]\n",
      " [0.+0.j 0.+1.j]]\n"
     ]
    }
   ],
   "source": [
    "qc = QuantumCircuit(1, 1)\n",
    "\n",
    "# Aplicar la puerta S\n",
    "qc.s(0)\n",
    "\n",
    "qc.measure(0, 0)\n",
    "\n",
    "fig = qc.draw(output='mpl')\n",
    "\n",
    "fig.savefig('images/Puerta_S.png')\n",
    "\n",
    "plt.show()\n",
    "\n",
    "s_matrix = np.array([[1, 0],\n",
    "                     [0, 1j]])\n",
    "print(f\"Matriz de la Puerta S:\\n{s_matrix}\")"
   ]
  },
  {
   "cell_type": "markdown",
   "id": "b60cfb4f",
   "metadata": {},
   "source": [
    "<h2 align=\"center\">PUERTA T</h2>\n"
   ]
  },
  {
   "cell_type": "code",
   "execution_count": 51,
   "id": "ba0d534c",
   "metadata": {},
   "outputs": [
    {
     "data": {
      "image/png": "[encoded data removed]",
      "text/plain": [
       "<Figure size 269.064x200.667 with 1 Axes>"
      ]
     },
     "metadata": {},
     "output_type": "display_data"
    },
    {
     "name": "stdout",
     "output_type": "stream",
     "text": [
      "Matriz de la puerta T:\n",
      "[[1.        +0.j         0.        +0.j        ]\n",
      " [0.        +0.j         0.70710678+0.70710678j]]\n"
     ]
    }
   ],
   "source": [
    "qc = QuantumCircuit(1, 1)\n",
    "\n",
    "# Aplicar la puerta T\n",
    "qc.t(0)\n",
    "\n",
    "qc.measure(0, 0)\n",
    "\n",
    "fig = qc.draw(output='mpl')\n",
    "\n",
    "fig.savefig('images/Puerta_T.png')\n",
    "\n",
    "plt.show()\n",
    "\n",
    "# Matriz de la puerta T\n",
    "t_matrix = np.array([[1, 0],\n",
    "                     [0, np.exp(1j * np.pi / 4)]])\n",
    "print(f\"Matriz de la puerta T:\\n{t_matrix}\")"
   ]
  },
  {
   "cell_type": "markdown",
   "id": "100069ff",
   "metadata": {},
   "source": [
    "<h2 align=\"center\">PUERTA GENERALIZADA: PUERTA U</h2>\n"
   ]
  },
  {
   "cell_type": "code",
   "execution_count": 52,
   "id": "0d243bc4",
   "metadata": {},
   "outputs": [
    {
     "data": {
      "image/png": "[encoded data removed]",
      "text/plain": [
       "<Figure size 352.675x200.667 with 1 Axes>"
      ]
     },
     "metadata": {},
     "output_type": "display_data"
    },
    {
     "name": "stdout",
     "output_type": "stream",
     "text": [
      "Matriz de la Puerta U(θ, φ, λ):\n",
      "[[ 0.70710678+0.j         -0.35355339-0.61237244j]\n",
      " [ 0.5       +0.5j        -0.1830127 +0.6830127j ]]\n"
     ]
    }
   ],
   "source": [
    "# Parámetros de la puerta U\n",
    "theta = np.pi / 2\n",
    "phi = np.pi / 4\n",
    "lam = np.pi / 3\n",
    "\n",
    "qc = QuantumCircuit(1, 1)\n",
    "\n",
    "# Aplicar la puerta U(θ, φ, λ)\n",
    "qc.u(theta, phi, lam, 0)\n",
    "\n",
    "qc.measure(0, 0)\n",
    "\n",
    "fig = qc.draw(output='mpl')\n",
    "\n",
    "fig.savefig('images/Puerta_U.png')\n",
    "\n",
    "plt.show()\n",
    "\n",
    "# Matriz de la puerta U\n",
    "u_matrix = np.array([\n",
    "    [np.cos(theta/2), -np.exp(1j*lam)*np.sin(theta/2)],\n",
    "    [np.exp(1j*phi)*np.sin(theta/2), np.exp(1j*(phi+lam))*np.cos(theta/2)]\n",
    "])\n",
    "print(f\"Matriz de la Puerta U(θ, φ, λ):\\n{u_matrix}\")"
   ]
  },
  {
   "cell_type": "markdown",
   "id": "aeafadd6",
   "metadata": {},
   "source": [
    "<h2 align=\"center\">PUERTA CNOT</h2>\n"
   ]
  },
  {
   "cell_type": "code",
   "execution_count": 53,
   "id": "52a220ef",
   "metadata": {},
   "outputs": [
    {
     "data": {
      "image/png": "[encoded data removed]",
      "text/plain": [
       "<Figure size 454.517x284.278 with 1 Axes>"
      ]
     },
     "metadata": {},
     "output_type": "display_data"
    },
    {
     "name": "stdout",
     "output_type": "stream",
     "text": [
      "Matriz de la Puerta CNOT:\n",
      "[[1 0 0 0]\n",
      " [0 1 0 0]\n",
      " [0 0 0 1]\n",
      " [0 0 1 0]]\n"
     ]
    }
   ],
   "source": [
    "qc = QuantumCircuit(2, 2)\n",
    "\n",
    "# Preparar superposición en el qbit de control\n",
    "qc.h(0)  # Hadamard en el qbit de control\n",
    "\n",
    "# Aplicar la puerta CNOT (control = qbit 0, objetivo = qbit 1)\n",
    "qc.cx(0, 1)\n",
    "\n",
    "qc.measure(0, 0)\n",
    "qc.measure(1, 1)\n",
    "\n",
    "fig = qc.draw(output='mpl')\n",
    "fig.savefig('images/Puerta_CNOT.png')\n",
    "plt.show()\n",
    "\n",
    "# Matriz de la puerta CNOT\n",
    "cnot_matrix = np.array([\n",
    "    [1, 0, 0, 0],\n",
    "    [0, 1, 0, 0],\n",
    "    [0, 0, 0, 1],\n",
    "    [0, 0, 1, 0]\n",
    "])\n",
    "print(f\"Matriz de la Puerta CNOT:\\n{cnot_matrix}\")"
   ]
  },
  {
   "cell_type": "markdown",
   "id": "117a546d",
   "metadata": {},
   "source": [
    "<h2 align=\"center\">PUERTA CU</h2>\n"
   ]
  },
  {
   "cell_type": "code",
   "execution_count": 54,
   "id": "bde89823",
   "metadata": {},
   "outputs": [
    {
     "data": {
      "image/png": "[encoded data removed]",
      "text/plain": [
       "<Figure size 538.128x284.278 with 1 Axes>"
      ]
     },
     "metadata": {},
     "output_type": "display_data"
    },
    {
     "name": "stdout",
     "output_type": "stream",
     "text": [
      "Matriz U:\n",
      "[[ 0.8660254 +0.j         -0.4330127 -0.25j      ]\n",
      " [ 0.35355339+0.35355339j  0.22414387+0.8365163j ]]\n"
     ]
    }
   ],
   "source": [
    "# Parámetros de la puerta U\n",
    "theta = np.pi / 3\n",
    "phi = np.pi / 4\n",
    "lam = np.pi / 6\n",
    "\n",
    "qc = QuantumCircuit(2, 2)\n",
    "\n",
    "# Preparar superposición\n",
    "qc.h(0)\n",
    "\n",
    "# Crear compuerta U y aplicar controlada al qubit 1\n",
    "u_gate = UGate(theta, phi, lam)\n",
    "qc.append(u_gate.control(), [0, 1])\n",
    "\n",
    "qc.measure(0, 0)\n",
    "qc.measure(1, 1)\n",
    "\n",
    "fig = qc.draw(output='mpl')\n",
    "fig.savefig('images/Puerta_CU.png')\n",
    "plt.show()\n",
    "\n",
    "u_matrix = np.array([\n",
    "    [np.cos(theta / 2), -np.exp(1j * lam) * np.sin(theta / 2)],\n",
    "    [np.exp(1j * phi) * np.sin(theta / 2), np.exp(1j * (phi + lam)) * np.cos(theta / 2)]\n",
    "])\n",
    "print(f\"Matriz U:\\n{u_matrix}\")"
   ]
  },
  {
   "cell_type": "markdown",
   "id": "623def70",
   "metadata": {},
   "source": [
    "<h2 align=\"center\">PUERTA SWAP</h2>\n"
   ]
  },
  {
   "cell_type": "code",
   "execution_count": 55,
   "id": "96677012",
   "metadata": {},
   "outputs": [
    {
     "data": {
      "image/png": "[encoded data removed]",
      "text/plain": [
       "<Figure size 370.906x284.278 with 1 Axes>"
      ]
     },
     "metadata": {},
     "output_type": "display_data"
    }
   ],
   "source": [
    "qc = QuantumCircuit(2, 2)\n",
    "\n",
    "# Aplicar compuerta SWAP entre q0 y q1\n",
    "qc.swap(0, 1)\n",
    "\n",
    "qc.measure(0, 0)\n",
    "qc.measure(1, 1)\n",
    "\n",
    "fig = qc.draw(output='mpl')\n",
    "\n",
    "fig.savefig('images/Puerta_SWAP.png')\n",
    "\n",
    "plt.show()"
   ]
  }
 ],
 "metadata": {
  "kernelspec": {
   "display_name": "Python 3",
   "language": "python",
   "name": "python3"
  },
  "language_info": {
   "codemirror_mode": {
    "name": "ipython",
    "version": 3
   },
   "file_extension": ".py",
   "mimetype": "text/x-python",
   "name": "python",
   "nbconvert_exporter": "python",
   "pygments_lexer": "ipython3",
   "version": "3.12.7"
  }
 },
 "nbformat": 4,
 "nbformat_minor": 5
}
